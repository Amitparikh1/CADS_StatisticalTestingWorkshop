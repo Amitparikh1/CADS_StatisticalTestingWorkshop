{
  "nbformat": 4,
  "nbformat_minor": 0,
  "metadata": {
    "colab": {
      "name": "CADS_Statistical_Testing_Workshop.ipynb",
      "provenance": [],
      "authorship_tag": "ABX9TyNRJO7bA18Oukotj94G2pRi",
      "include_colab_link": true
    },
    "kernelspec": {
      "name": "python3",
      "display_name": "Python 3"
    }
  },
  "cells": [
    {
      "cell_type": "markdown",
      "metadata": {
        "id": "view-in-github",
        "colab_type": "text"
      },
      "source": [
        "<a href=\"https://colab.research.google.com/github/Amitparikh1/CADS_StatisticalTestingWorkshop/blob/main/CADS_Statistical_Testing_Workshop.ipynb\" target=\"_parent\"><img src=\"https://colab.research.google.com/assets/colab-badge.svg\" alt=\"Open In Colab\"/></a>"
      ]
    },
    {
      "cell_type": "markdown",
      "metadata": {
        "id": "c-1RYViNdVW_"
      },
      "source": [
        "Import Libraries"
      ]
    },
    {
      "cell_type": "code",
      "metadata": {
        "id": "Ft_GQY-rdXr8",
        "colab": {
          "base_uri": "https://localhost:8080/"
        },
        "outputId": "0b503b71-f1af-4dc1-f6e5-6fdbab5ae3ce"
      },
      "source": [
        "!pip install statsmodels\r\n",
        "import pandas as pd\r\n",
        "import matplotlib.pyplot as plt\r\n",
        "import math\r\n",
        "import scipy.stats as stats\r\n",
        "import numpy as np\r\n",
        "import random\r\n",
        "import statsmodels as sm"
      ],
      "execution_count": 1,
      "outputs": [
        {
          "output_type": "stream",
          "text": [
            "Requirement already satisfied: statsmodels in /usr/local/lib/python3.6/dist-packages (0.10.2)\n",
            "Requirement already satisfied: pandas>=0.19 in /usr/local/lib/python3.6/dist-packages (from statsmodels) (1.1.5)\n",
            "Requirement already satisfied: numpy>=1.11 in /usr/local/lib/python3.6/dist-packages (from statsmodels) (1.19.5)\n",
            "Requirement already satisfied: patsy>=0.4.0 in /usr/local/lib/python3.6/dist-packages (from statsmodels) (0.5.1)\n",
            "Requirement already satisfied: scipy>=0.18 in /usr/local/lib/python3.6/dist-packages (from statsmodels) (1.4.1)\n",
            "Requirement already satisfied: python-dateutil>=2.7.3 in /usr/local/lib/python3.6/dist-packages (from pandas>=0.19->statsmodels) (2.8.1)\n",
            "Requirement already satisfied: pytz>=2017.2 in /usr/local/lib/python3.6/dist-packages (from pandas>=0.19->statsmodels) (2018.9)\n",
            "Requirement already satisfied: six in /usr/local/lib/python3.6/dist-packages (from patsy>=0.4.0->statsmodels) (1.15.0)\n"
          ],
          "name": "stdout"
        }
      ]
    },
    {
      "cell_type": "markdown",
      "metadata": {
        "id": "DV1S4r3ezBHm"
      },
      "source": [
        "One Sample T-Test"
      ]
    },
    {
      "cell_type": "code",
      "metadata": {
        "colab": {
          "base_uri": "https://localhost:8080/",
          "height": 205
        },
        "id": "OOvlX_gM-Oew",
        "outputId": "a5e34f1f-f53b-4e66-e428-4a961d45dc4a"
      },
      "source": [
        "## Create the Data Table\r\n",
        "average, std = 72, 5 # mean and standard deviation\r\n",
        "generated_class_scores = np.round(np.random.normal(average, std, 1000))\r\n",
        "class_df = pd.DataFrame(generated_class_scores,columns=['Score'])\r\n",
        "# take a random sample of 30 students\r\n",
        "sample_df = class_df.sample(30)\r\n",
        "sample_df.head()"
      ],
      "execution_count": 3,
      "outputs": [
        {
          "output_type": "execute_result",
          "data": {
            "text/html": [
              "<div>\n",
              "<style scoped>\n",
              "    .dataframe tbody tr th:only-of-type {\n",
              "        vertical-align: middle;\n",
              "    }\n",
              "\n",
              "    .dataframe tbody tr th {\n",
              "        vertical-align: top;\n",
              "    }\n",
              "\n",
              "    .dataframe thead th {\n",
              "        text-align: right;\n",
              "    }\n",
              "</style>\n",
              "<table border=\"1\" class=\"dataframe\">\n",
              "  <thead>\n",
              "    <tr style=\"text-align: right;\">\n",
              "      <th></th>\n",
              "      <th>Score</th>\n",
              "    </tr>\n",
              "  </thead>\n",
              "  <tbody>\n",
              "    <tr>\n",
              "      <th>672</th>\n",
              "      <td>72.0</td>\n",
              "    </tr>\n",
              "    <tr>\n",
              "      <th>893</th>\n",
              "      <td>72.0</td>\n",
              "    </tr>\n",
              "    <tr>\n",
              "      <th>453</th>\n",
              "      <td>81.0</td>\n",
              "    </tr>\n",
              "    <tr>\n",
              "      <th>790</th>\n",
              "      <td>71.0</td>\n",
              "    </tr>\n",
              "    <tr>\n",
              "      <th>411</th>\n",
              "      <td>76.0</td>\n",
              "    </tr>\n",
              "  </tbody>\n",
              "</table>\n",
              "</div>"
            ],
            "text/plain": [
              "     Score\n",
              "672   72.0\n",
              "893   72.0\n",
              "453   81.0\n",
              "790   71.0\n",
              "411   76.0"
            ]
          },
          "metadata": {
            "tags": []
          },
          "execution_count": 3
        }
      ]
    },
    {
      "cell_type": "code",
      "metadata": {
        "colab": {
          "base_uri": "https://localhost:8080/",
          "height": 283
        },
        "id": "0vcz2ezZCevY",
        "outputId": "90dab744-54da-4050-c529-c7d8982a34f4"
      },
      "source": [
        "## Scenario - A principal claims that students at his school are above average test takers. \r\n",
        "#             From a random sample of 30 of the 1000 students at the school, find if there is sufficient evidence to suppor the principals claim\r\n",
        "#             The nationwide average on the test is 70, the standard deviation is unknown.\r\n",
        "#             Null Hypothesis - average score at the school = 70. Alternate Hypothesis - average score at the school > 70\r\n",
        "\r\n",
        "## Parameters: sample observation, and population mean, can also specify if you want a one sided test and which side (default is two sided)\r\n",
        "t_test_result = stats.ttest_1samp(sample_df['Score'],70) \r\n",
        "print(t_test_result)\r\n",
        "\r\n",
        "# Plot\r\n",
        "rv = stats.t(df=len(sample_df), loc=70, scale=1)\r\n",
        "x = np.linspace(rv.ppf(0.0001), rv.ppf(0.9999), 100)\r\n",
        "y = rv.pdf(x) \r\n",
        "plt.plot(x,y)\r\n",
        "# add line to show sample mean\r\n",
        "plt.plot([sample_df['Score'].mean(), sample_df['Score'].mean()], [0, .4], 'k-', lw=2)\r\n",
        "plt.show()"
      ],
      "execution_count": null,
      "outputs": [
        {
          "output_type": "stream",
          "text": [
            "Ttest_1sampResult(statistic=2.662426722819324, pvalue=0.012522865891995269)\n"
          ],
          "name": "stdout"
        },
        {
          "output_type": "display_data",
          "data": {
            "image/png": "[encoded data removed]",
            "text/plain": [
              "<Figure size 432x288 with 1 Axes>"
            ]
          },
          "metadata": {
            "tags": [],
            "needs_background": "light"
          }
        }
      ]
    },
    {
      "cell_type": "markdown",
      "metadata": {
        "id": "cWHt40PSX4ZY"
      },
      "source": [
        "Z-Test for Proportions"
      ]
    },
    {
      "cell_type": "code",
      "metadata": {
        "colab": {
          "base_uri": "https://localhost:8080/"
        },
        "id": "filo2jPOX6yT",
        "outputId": "ef585322-5cec-4870-b8dc-d76a91c2ab65"
      },
      "source": [
        "## Scenario - You think that students at a highschool of 2000 students are split 50/50 on liking Duke or UNC. To test this you ask a random sample of 100 students.\r\n",
        "#             Null Hypothesis - The proportion of students that like UNC is .5\r\n",
        "#             Alternate Hypothesis - The proportion of students that like UNC is not .5 (UNC, Duke Split is not 50/50)\r\n",
        "\r\n",
        "num_of_unc_fans = random.randint(1,100)\r\n",
        "# Parameters: count of 'successes', number of samples, null hypothesis proportion, 'smaller', 'larger', or 'two-sided' \r\n",
        "z_test_result = sm.stats.proportion.proportions_ztest(count = num_of_unc_fans,nobs=100,value=.5,alternative=\"two-sided\") \r\n",
        "print(str(num_of_unc_fans) + \"% of the sample are UNC fans\")\r\n",
        "print(\"Z Statistic: \" + str(z_test_result[0]))\r\n",
        "print(\"P Value: \" + str(z_test_result[1]))"
      ],
      "execution_count": null,
      "outputs": [
        {
          "output_type": "stream",
          "text": [
            "7% of the sample are UNC fans\n",
            "Z Statistic: -16.85302873589684\n",
            "P Value: 9.967652183854023e-64\n"
          ],
          "name": "stdout"
        }
      ]
    },
    {
      "cell_type": "markdown",
      "metadata": {
        "id": "EM-bRSPvz6d_"
      },
      "source": [
        "Chi-Square Test"
      ]
    },
    {
      "cell_type": "code",
      "metadata": {
        "colab": {
          "base_uri": "https://localhost:8080/"
        },
        "id": "XZiVGkYTji6F",
        "outputId": "6168f3e8-cad3-4158-d0ad-76b9678cdc17"
      },
      "source": [
        "## Create the Data Table\r\n",
        "\r\n",
        "sample_dict = {\"A\":0,\"B\":0,\"C\":0,\"D\":0}\r\n",
        "for i in range(100):\r\n",
        "  answer = random.choice(list(sample_dict.keys()))\r\n",
        "  sample_dict[answer] += 1 \r\n",
        "print(sample_dict)"
      ],
      "execution_count": null,
      "outputs": [
        {
          "output_type": "stream",
          "text": [
            "{'A': 21, 'B': 24, 'C': 25, 'D': 30}\n"
          ],
          "name": "stdout"
        }
      ]
    },
    {
      "cell_type": "code",
      "metadata": {
        "colab": {
          "base_uri": "https://localhost:8080/"
        },
        "id": "AQntjDxTipgZ",
        "outputId": "dabef301-717d-4a29-d1b5-b8a3c27af55a"
      },
      "source": [
        "## Scenario - Your teacher claims that each of four multiple choice options has an equal chance of being selected on your Final Exam.\r\n",
        "#             You decide to do a Chi-Square Test to see if this is the case by using a random sample of 100 multiple choice problems.\r\n",
        "#             Null Hypothesis - all answer choices have an equal probability of being chosen.\r\n",
        "#             Alternate Hypothesis - all answer choices DO NOT have an equal probability of being chosen\r\n",
        " \r\n",
        "# Parameters: observed frequencies, expected frequencies in each category \r\n",
        "chi_square_result = stats.chisquare(f_obs = list(sample_dict.values()),f_exp = [25,25,25,25])\r\n",
        "print(chi_square_result)\r\n",
        "if chi_square_result[1]<.05:\r\n",
        "  print(\"Null hypothesis rejected\")\r\n",
        "else:\r\n",
        "  print(\"Fail to reject the null hypothesis\")"
      ],
      "execution_count": null,
      "outputs": [
        {
          "output_type": "stream",
          "text": [
            "Power_divergenceResult(statistic=1.6800000000000002, pvalue=0.6413893691403016)\n",
            "Fail to reject the null hypothesis\n"
          ],
          "name": "stdout"
        }
      ]
    },
    {
      "cell_type": "markdown",
      "metadata": {
        "id": "LUP2lT2sz8Nk"
      },
      "source": [
        "ANOVA Test"
      ]
    },
    {
      "cell_type": "code",
      "metadata": {
        "colab": {
          "base_uri": "https://localhost:8080/",
          "height": 228
        },
        "id": "VTclPqLVPRwF",
        "outputId": "5359c3b7-6520-4c46-990e-0c88574ed289"
      },
      "source": [
        "## Read in the Data\r\n",
        "oreo_ratings = pd.read_csv(\"https://raw.githubusercontent.com/Amitparikh1/CADS_StatisticalTestingWorkshop/main/oreo_rankings.csv\")\r\n",
        "\r\n",
        "oreo_ratings = oreo_ratings.transpose()\r\n",
        "oreo_ratings = oreo_ratings.rename(columns=oreo_ratings.iloc[0])\r\n",
        "oreo_ratings = oreo_ratings.reset_index()\r\n",
        "oreo_ratings = oreo_ratings.drop([0,7])\r\n",
        "oreo_ratings = oreo_ratings[['chocolate','double stuf','mint','red velvet']]\r\n",
        "oreo_ratings.head(6)"
      ],
      "execution_count": null,
      "outputs": [
        {
          "output_type": "execute_result",
          "data": {
            "text/html": [
              "<div>\n",
              "<style scoped>\n",
              "    .dataframe tbody tr th:only-of-type {\n",
              "        vertical-align: middle;\n",
              "    }\n",
              "\n",
              "    .dataframe tbody tr th {\n",
              "        vertical-align: top;\n",
              "    }\n",
              "\n",
              "    .dataframe thead th {\n",
              "        text-align: right;\n",
              "    }\n",
              "</style>\n",
              "<table border=\"1\" class=\"dataframe\">\n",
              "  <thead>\n",
              "    <tr style=\"text-align: right;\">\n",
              "      <th></th>\n",
              "      <th>chocolate</th>\n",
              "      <th>double stuf</th>\n",
              "      <th>mint</th>\n",
              "      <th>red velvet</th>\n",
              "    </tr>\n",
              "  </thead>\n",
              "  <tbody>\n",
              "    <tr>\n",
              "      <th>1</th>\n",
              "      <td>3.5</td>\n",
              "      <td>3.5</td>\n",
              "      <td>3.5</td>\n",
              "      <td>4</td>\n",
              "    </tr>\n",
              "    <tr>\n",
              "      <th>2</th>\n",
              "      <td>3</td>\n",
              "      <td>4</td>\n",
              "      <td>4</td>\n",
              "      <td>3</td>\n",
              "    </tr>\n",
              "    <tr>\n",
              "      <th>3</th>\n",
              "      <td>3.5</td>\n",
              "      <td>3</td>\n",
              "      <td>4.5</td>\n",
              "      <td>4.5</td>\n",
              "    </tr>\n",
              "    <tr>\n",
              "      <th>4</th>\n",
              "      <td>3</td>\n",
              "      <td>3</td>\n",
              "      <td>4</td>\n",
              "      <td>4</td>\n",
              "    </tr>\n",
              "    <tr>\n",
              "      <th>5</th>\n",
              "      <td>4</td>\n",
              "      <td>3.5</td>\n",
              "      <td>4.25</td>\n",
              "      <td>2.5</td>\n",
              "    </tr>\n",
              "    <tr>\n",
              "      <th>6</th>\n",
              "      <td>3.4</td>\n",
              "      <td>3.4</td>\n",
              "      <td>4.05</td>\n",
              "      <td>3.6</td>\n",
              "    </tr>\n",
              "  </tbody>\n",
              "</table>\n",
              "</div>"
            ],
            "text/plain": [
              "  chocolate double stuf  mint red velvet\n",
              "1       3.5         3.5   3.5          4\n",
              "2         3           4     4          3\n",
              "3       3.5           3   4.5        4.5\n",
              "4         3           3     4          4\n",
              "5         4         3.5  4.25        2.5\n",
              "6       3.4         3.4  4.05        3.6"
            ]
          },
          "metadata": {
            "tags": []
          },
          "execution_count": 6
        }
      ]
    },
    {
      "cell_type": "code",
      "metadata": {
        "colab": {
          "base_uri": "https://localhost:8080/"
        },
        "id": "7RwSHz8sSYSu",
        "outputId": "5965da3d-50b9-4c61-b031-d43b5cd8fdcc"
      },
      "source": [
        "## Scenario - We are looking at a sample of taste ratings for different Oreo flavors. 1 is the lowest rating and 5 is the highest rating. \r\n",
        "#             Null Hypothesis - There IS NO difference in the population mean taste rating for the oreo flavors  \r\n",
        "#             Alternate Hypothesis - There IS a difference in the population mean taste rating for the oreo flavors  \r\n",
        "\r\n",
        "# Parameters: sample measurements from each group\r\n",
        "anova_result = stats.f_oneway(oreo_ratings['chocolate'],oreo_ratings['double stuf'],oreo_ratings['mint'],oreo_ratings['red velvet'])\r\n",
        "print(anova_result)"
      ],
      "execution_count": null,
      "outputs": [
        {
          "output_type": "stream",
          "text": [
            "F_onewayResult(statistic=2.424731182795699, pvalue=0.0956802283917702)\n"
          ],
          "name": "stdout"
        }
      ]
    }
  ]
}